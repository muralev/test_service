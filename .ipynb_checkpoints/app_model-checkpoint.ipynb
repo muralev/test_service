{
 "cells": [
  {
   "cell_type": "markdown",
   "metadata": {},
   "source": [
    "# Модель fastText"
   ]
  },
  {
   "cell_type": "code",
   "execution_count": 1,
   "metadata": {},
   "outputs": [],
   "source": [
    "from sklearn.feature_extraction.text import TfidfVectorizer\n",
    "\n",
    "import datetime\n",
    "import requests\n",
    "import collections as co\n",
    "import string\n",
    "import re\n",
    "\n",
    "import nltk\n",
    "from sumy.utils import get_stop_words as gsw1\n",
    "from stop_words import get_stop_words as gsw2\n",
    "\n",
    "\n",
    "import pandas as pd\n",
    "import numpy as np"
   ]
  },
  {
   "cell_type": "code",
   "execution_count": 4,
   "metadata": {},
   "outputs": [
    {
     "data": {
      "text/plain": [
       "(50000, 3)"
      ]
     },
     "execution_count": 4,
     "metadata": {},
     "output_type": "execute_result"
    }
   ],
   "source": [
    "#чтение данных\n",
    "df = pd.read_csv('./data/3categories_50.csv')\n",
    "df.shape"
   ]
  },
  {
   "cell_type": "code",
   "execution_count": 5,
   "metadata": {},
   "outputs": [
    {
     "data": {
      "text/html": [
       "<div>\n",
       "<style scoped>\n",
       "    .dataframe tbody tr th:only-of-type {\n",
       "        vertical-align: middle;\n",
       "    }\n",
       "\n",
       "    .dataframe tbody tr th {\n",
       "        vertical-align: top;\n",
       "    }\n",
       "\n",
       "    .dataframe thead th {\n",
       "        text-align: right;\n",
       "    }\n",
       "</style>\n",
       "<table border=\"1\" class=\"dataframe\">\n",
       "  <thead>\n",
       "    <tr style=\"text-align: right;\">\n",
       "      <th></th>\n",
       "      <th>channel</th>\n",
       "      <th>category</th>\n",
       "      <th>message</th>\n",
       "    </tr>\n",
       "  </thead>\n",
       "  <tbody>\n",
       "    <tr>\n",
       "      <th>0</th>\n",
       "      <td>chat</td>\n",
       "      <td>afs</td>\n",
       "      <td>\\nChat transcript:\\nVisitor: I am attempting t...</td>\n",
       "    </tr>\n",
       "    <tr>\n",
       "      <th>1</th>\n",
       "      <td>chat</td>\n",
       "      <td>other</td>\n",
       "      <td>\\nChat transcript:\\nVisitor: Hi. For some reas...</td>\n",
       "    </tr>\n",
       "    <tr>\n",
       "      <th>2</th>\n",
       "      <td>chat</td>\n",
       "      <td>afs</td>\n",
       "      <td>\\nChat transcript:\\nVisitor: Здравствуйте, я х...</td>\n",
       "    </tr>\n",
       "    <tr>\n",
       "      <th>3</th>\n",
       "      <td>chat</td>\n",
       "      <td>afs</td>\n",
       "      <td>\\nChat transcript:\\nVisitor: no puedo hacer la...</td>\n",
       "    </tr>\n",
       "    <tr>\n",
       "      <th>4</th>\n",
       "      <td>chat</td>\n",
       "      <td>afs</td>\n",
       "      <td>\\nChat transcript:\\nVisitor: hi im trying to b...</td>\n",
       "    </tr>\n",
       "  </tbody>\n",
       "</table>\n",
       "</div>"
      ],
      "text/plain": [
       "  channel category                                            message\n",
       "0    chat      afs  \\nChat transcript:\\nVisitor: I am attempting t...\n",
       "1    chat    other  \\nChat transcript:\\nVisitor: Hi. For some reas...\n",
       "2    chat      afs  \\nChat transcript:\\nVisitor: Здравствуйте, я х...\n",
       "3    chat      afs  \\nChat transcript:\\nVisitor: no puedo hacer la...\n",
       "4    chat      afs  \\nChat transcript:\\nVisitor: hi im trying to b..."
      ]
     },
     "execution_count": 5,
     "metadata": {},
     "output_type": "execute_result"
    }
   ],
   "source": [
    "df.head()"
   ]
  },
  {
   "cell_type": "code",
   "execution_count": 6,
   "metadata": {},
   "outputs": [],
   "source": [
    "#убираем технические данные в сообщениях и прочий шум\n",
    "df['message'] = df['message'].str.replace('\\[.*\\]', '', regex=True)\n",
    "df['message'] = df['message'].str.replace(\"\\!\", '', regex=True)\n",
    "df['message'] = df['message'].str.replace(\"\\'\", '', regex=True)\n",
    "df['message'] = df['message'].str.replace(\"[^A-Za-z0-9^,!.\\/'+-=]\", ' ', regex=True)"
   ]
  },
  {
   "cell_type": "code",
   "execution_count": 7,
   "metadata": {},
   "outputs": [],
   "source": [
    "#переведем в нижний регистр\n",
    "df['message'] = df['message'].str.replace(\"\\s+\", ' ', regex=True)\n",
    "df['message'] = df['message'].str.lower()"
   ]
  },
  {
   "cell_type": "code",
   "execution_count": 8,
   "metadata": {},
   "outputs": [
    {
     "data": {
      "text/plain": [
       "(49999, 3)"
      ]
     },
     "execution_count": 8,
     "metadata": {},
     "output_type": "execute_result"
    }
   ],
   "source": [
    "#уберем шум\n",
    "df.dropna(inplace = True)\n",
    "df.shape"
   ]
  },
  {
   "cell_type": "code",
   "execution_count": 9,
   "metadata": {},
   "outputs": [
    {
     "data": {
      "text/plain": [
       "(49499, 4)"
      ]
     },
     "execution_count": 9,
     "metadata": {},
     "output_type": "execute_result"
    }
   ],
   "source": [
    "# уберем шумовые длинные сообщения\n",
    "df['message_len'] = df['message'].str.len()\n",
    "df = df[(df['message_len'] < np.percentile(df.message_len,99))][:]\n",
    "df.shape"
   ]
  },
  {
   "cell_type": "markdown",
   "metadata": {},
   "source": [
    "Очищаем текст от шума"
   ]
  },
  {
   "cell_type": "code",
   "execution_count": 10,
   "metadata": {},
   "outputs": [
    {
     "data": {
      "text/plain": [
       "(49499, 1)"
      ]
     },
     "execution_count": 10,
     "metadata": {},
     "output_type": "execute_result"
    }
   ],
   "source": [
    "df_reviews = df[['message']][:]\n",
    "df_reviews.columns = ['review']\n",
    "df_reviews.reset_index(drop = True , inplace = True)\n",
    "df_reviews.shape"
   ]
  },
  {
   "cell_type": "code",
   "execution_count": 11,
   "metadata": {},
   "outputs": [
    {
     "name": "stderr",
     "output_type": "stream",
     "text": [
      "[nltk_data] Downloading package stopwords to\n",
      "[nltk_data]     C:\\Users\\mural\\AppData\\Roaming\\nltk_data...\n",
      "[nltk_data]   Package stopwords is already up-to-date!\n",
      "[nltk_data] Downloading package averaged_perceptron_tagger to\n",
      "[nltk_data]     C:\\Users\\mural\\AppData\\Roaming\\nltk_data...\n",
      "[nltk_data]   Package averaged_perceptron_tagger is already up-to-\n",
      "[nltk_data]       date!\n"
     ]
    },
    {
     "data": {
      "text/plain": [
       "True"
      ]
     },
     "execution_count": 11,
     "metadata": {},
     "output_type": "execute_result"
    }
   ],
   "source": [
    "nltk.download('stopwords')\n",
    "nltk.download('averaged_perceptron_tagger')"
   ]
  },
  {
   "cell_type": "code",
   "execution_count": 12,
   "metadata": {},
   "outputs": [],
   "source": [
    "list_count_words = []\n",
    "list_true_words = []\n",
    "list_tagged = []\n",
    "list_tags = []\n",
    "\n",
    "for i ,row in  df_reviews.iterrows():\n",
    "    words = []\n",
    "    tagged = []\n",
    "    true_words = []\n",
    "    tags = []\n",
    "    \n",
    "    a_line = row['review']\n",
    "\n",
    "    \n",
    "    \n",
    "    words = re.split(' ', a_line)\n",
    "    true_words = []\n",
    "\n",
    "    for word in words:\n",
    "        m = re.search('(\\w+)',word)\n",
    "        if m is not None:\n",
    "            good_word = m.group(0)\n",
    "            true_words.append(good_word)\n",
    "\n",
    "    tagged = nltk.pos_tag(true_words)\n",
    "    tags = []\n",
    "    for tag in tagged:\n",
    "        tags.append(tag[1])\n",
    "    \n",
    "\n",
    "\n",
    "\n",
    "    list_count_words.append(len(words))   \n",
    "    list_tagged.append(tagged)\n",
    "    list_true_words.append(true_words)\n",
    "    list_tags.append(tags)"
   ]
  },
  {
   "cell_type": "code",
   "execution_count": 13,
   "metadata": {},
   "outputs": [],
   "source": [
    "df_reviews['count_words'] = list_count_words\n",
    "df_reviews['list_of_words'] = list_true_words\n",
    "df_reviews['list_of_tags'] = list_tags\n",
    "df_reviews['word_with_tag_list'] = list_tagged"
   ]
  },
  {
   "cell_type": "code",
   "execution_count": 14,
   "metadata": {},
   "outputs": [
    {
     "data": {
      "text/html": [
       "<div>\n",
       "<style scoped>\n",
       "    .dataframe tbody tr th:only-of-type {\n",
       "        vertical-align: middle;\n",
       "    }\n",
       "\n",
       "    .dataframe tbody tr th {\n",
       "        vertical-align: top;\n",
       "    }\n",
       "\n",
       "    .dataframe thead th {\n",
       "        text-align: right;\n",
       "    }\n",
       "</style>\n",
       "<table border=\"1\" class=\"dataframe\">\n",
       "  <thead>\n",
       "    <tr style=\"text-align: right;\">\n",
       "      <th></th>\n",
       "      <th>sentence</th>\n",
       "      <th>count_words</th>\n",
       "      <th>list_of_words</th>\n",
       "      <th>list_of_tags</th>\n",
       "      <th>word_with_tag_list</th>\n",
       "    </tr>\n",
       "  </thead>\n",
       "  <tbody>\n",
       "    <tr>\n",
       "      <th>0</th>\n",
       "      <td>chat transcript: visitor: i am attempting to ...</td>\n",
       "      <td>58</td>\n",
       "      <td>[chat, transcript, visitor, i, am, attempting,...</td>\n",
       "      <td>[RB, JJ, NN, NN, VBP, VBG, TO, VB, PRP$, NN, R...</td>\n",
       "      <td>[(chat, RB), (transcript, JJ), (visitor, NN), ...</td>\n",
       "    </tr>\n",
       "    <tr>\n",
       "      <th>1</th>\n",
       "      <td>chat transcript: visitor: hi. for some reason...</td>\n",
       "      <td>113</td>\n",
       "      <td>[chat, transcript, visitor, hi, for, some, rea...</td>\n",
       "      <td>[RB, JJ, NN, NN, IN, DT, NN, PRP, VBZ, IN, PRP...</td>\n",
       "      <td>[(chat, RB), (transcript, JJ), (visitor, NN), ...</td>\n",
       "    </tr>\n",
       "    <tr>\n",
       "      <th>2</th>\n",
       "      <td>chat transcript: visitor: , faceit, andrew: ....</td>\n",
       "      <td>50</td>\n",
       "      <td>[chat, transcript, visitor, faceit, andrew, vi...</td>\n",
       "      <td>[RB, JJ, NN, NN, VBD, NN, NN, NN, VBD, TO, VB,...</td>\n",
       "      <td>[(chat, RB), (transcript, JJ), (visitor, NN), ...</td>\n",
       "    </tr>\n",
       "    <tr>\n",
       "      <th>3</th>\n",
       "      <td>chat transcript: visitor: no puedo hacer la r...</td>\n",
       "      <td>157</td>\n",
       "      <td>[chat, transcript, visitor, no, puedo, hacer, ...</td>\n",
       "      <td>[RB, JJ, NN, DT, NN, NN, FW, FW, FW, NN, VBD, ...</td>\n",
       "      <td>[(chat, RB), (transcript, JJ), (visitor, NN), ...</td>\n",
       "    </tr>\n",
       "    <tr>\n",
       "      <th>4</th>\n",
       "      <td>chat transcript: visitor: hi im trying to buy...</td>\n",
       "      <td>110</td>\n",
       "      <td>[chat, transcript, visitor, hi, im, trying, to...</td>\n",
       "      <td>[RB, JJ, NN, NN, NN, VBG, TO, VB, NNS, CC, PRP...</td>\n",
       "      <td>[(chat, RB), (transcript, JJ), (visitor, NN), ...</td>\n",
       "    </tr>\n",
       "  </tbody>\n",
       "</table>\n",
       "</div>"
      ],
      "text/plain": [
       "                                            sentence  count_words  \\\n",
       "0   chat transcript: visitor: i am attempting to ...           58   \n",
       "1   chat transcript: visitor: hi. for some reason...          113   \n",
       "2   chat transcript: visitor: , faceit, andrew: ....           50   \n",
       "3   chat transcript: visitor: no puedo hacer la r...          157   \n",
       "4   chat transcript: visitor: hi im trying to buy...          110   \n",
       "\n",
       "                                       list_of_words  \\\n",
       "0  [chat, transcript, visitor, i, am, attempting,...   \n",
       "1  [chat, transcript, visitor, hi, for, some, rea...   \n",
       "2  [chat, transcript, visitor, faceit, andrew, vi...   \n",
       "3  [chat, transcript, visitor, no, puedo, hacer, ...   \n",
       "4  [chat, transcript, visitor, hi, im, trying, to...   \n",
       "\n",
       "                                        list_of_tags  \\\n",
       "0  [RB, JJ, NN, NN, VBP, VBG, TO, VB, PRP$, NN, R...   \n",
       "1  [RB, JJ, NN, NN, IN, DT, NN, PRP, VBZ, IN, PRP...   \n",
       "2  [RB, JJ, NN, NN, VBD, NN, NN, NN, VBD, TO, VB,...   \n",
       "3  [RB, JJ, NN, DT, NN, NN, FW, FW, FW, NN, VBD, ...   \n",
       "4  [RB, JJ, NN, NN, NN, VBG, TO, VB, NNS, CC, PRP...   \n",
       "\n",
       "                                  word_with_tag_list  \n",
       "0  [(chat, RB), (transcript, JJ), (visitor, NN), ...  \n",
       "1  [(chat, RB), (transcript, JJ), (visitor, NN), ...  \n",
       "2  [(chat, RB), (transcript, JJ), (visitor, NN), ...  \n",
       "3  [(chat, RB), (transcript, JJ), (visitor, NN), ...  \n",
       "4  [(chat, RB), (transcript, JJ), (visitor, NN), ...  "
      ]
     },
     "execution_count": 14,
     "metadata": {},
     "output_type": "execute_result"
    }
   ],
   "source": [
    "text_analizator_df = df_reviews[:]\n",
    "text_analizator_df.rename(columns = {'review' : 'sentence'} , inplace = True)\n",
    "text_analizator_df.head()"
   ]
  },
  {
   "cell_type": "code",
   "execution_count": 15,
   "metadata": {},
   "outputs": [],
   "source": [
    "stopWords =nltk.corpus.stopwords.words()\n",
    "\n",
    "LANGUAGE = 'english'\n",
    "\n",
    "sw0 = [\"yeah\",\"zola\",\"don\"]\n",
    "sw1 = gsw1(LANGUAGE)\n",
    "sw2 = gsw2('en')\n",
    "\n",
    "sw0.extend(list(sw1))\n",
    "sw0.extend(list(sw2))\n",
    "\n",
    "\n",
    "\n",
    "new_s_list = []\n",
    "new_lw_list = []\n",
    "new_lt_list = []\n",
    "new_lwt_list = []\n",
    "new_count_words = []\n",
    "\n",
    "for s , lw , lt ,lwt in zip (text_analizator_df['sentence'] \n",
    "                        , text_analizator_df['list_of_words'] \n",
    "                        , text_analizator_df['list_of_tags']\n",
    "                        , text_analizator_df['word_with_tag_list']):\n",
    "    new_s = ''\n",
    "    new_lw = []\n",
    "    new_lt = []\n",
    "    new_lwt = []\n",
    "    for w,t,lw in zip(lw,lt,lwt):\n",
    "        if t in ['NN','VB','DT','NNS','VBP','VB']:\n",
    "            new_s += w + ' '\n",
    "            new_lw.append(w)\n",
    "            new_lt.append(t)\n",
    "            new_lwt.append(lw)\n",
    "        elif w in sw0 or re.match('\\d+',w) is not None:\n",
    "            continue\n",
    "\n",
    "    \n",
    "    new_s_list.append(new_s)\n",
    "    new_lw_list.append(new_lw)\n",
    "    new_lt_list.append(new_lt)\n",
    "    new_lwt_list.append(new_lwt)\n",
    "    new_count_words.append(len(new_lw))\n",
    "        \n",
    "text_analizator_df['new_sentence'] = new_s_list\n",
    "text_analizator_df['list_of_words'] = new_lw_list\n",
    "text_analizator_df['list_of_tags'] = new_lt_list\n",
    "text_analizator_df['word_with_tag_list'] = new_lwt_list\n",
    "text_analizator_df['count_words'] = new_count_words"
   ]
  },
  {
   "cell_type": "code",
   "execution_count": 16,
   "metadata": {},
   "outputs": [
    {
     "data": {
      "text/html": [
       "<div>\n",
       "<style scoped>\n",
       "    .dataframe tbody tr th:only-of-type {\n",
       "        vertical-align: middle;\n",
       "    }\n",
       "\n",
       "    .dataframe tbody tr th {\n",
       "        vertical-align: top;\n",
       "    }\n",
       "\n",
       "    .dataframe thead th {\n",
       "        text-align: right;\n",
       "    }\n",
       "</style>\n",
       "<table border=\"1\" class=\"dataframe\">\n",
       "  <thead>\n",
       "    <tr style=\"text-align: right;\">\n",
       "      <th></th>\n",
       "      <th>sentence</th>\n",
       "      <th>count_words</th>\n",
       "      <th>list_of_words</th>\n",
       "      <th>list_of_tags</th>\n",
       "      <th>word_with_tag_list</th>\n",
       "      <th>new_sentence</th>\n",
       "    </tr>\n",
       "  </thead>\n",
       "  <tbody>\n",
       "    <tr>\n",
       "      <th>0</th>\n",
       "      <td>chat transcript: visitor: i am attempting to ...</td>\n",
       "      <td>30</td>\n",
       "      <td>[visitor, i, am, verify, card, the, payment, a...</td>\n",
       "      <td>[NN, NN, VBP, VB, NN, DT, NN, DT, NNS, VBP, NN...</td>\n",
       "      <td>[(visitor, NN), (i, NN), (am, VBP), (verify, V...</td>\n",
       "      <td>visitor i am verify card the payment all charg...</td>\n",
       "    </tr>\n",
       "    <tr>\n",
       "      <th>1</th>\n",
       "      <td>chat transcript: visitor: hi. for some reason...</td>\n",
       "      <td>64</td>\n",
       "      <td>[visitor, hi, some, reason, sub, prepcoin, nl,...</td>\n",
       "      <td>[NN, NN, DT, NN, NN, NN, NN, NN, VBP, NN, NN, ...</td>\n",
       "      <td>[(visitor, NN), (hi, NN), (some, DT), (reason,...</td>\n",
       "      <td>visitor hi some reason sub prepcoin nl didnt g...</td>\n",
       "    </tr>\n",
       "    <tr>\n",
       "      <th>2</th>\n",
       "      <td>chat transcript: visitor: , faceit, andrew: ....</td>\n",
       "      <td>17</td>\n",
       "      <td>[visitor, faceit, visitor, hello, i, pay, a, s...</td>\n",
       "      <td>[NN, NN, NN, NN, NN, VB, DT, NN, DT, NN, NN, D...</td>\n",
       "      <td>[(visitor, NN), (faceit, NN), (visitor, NN), (...</td>\n",
       "      <td>visitor faceit visitor hello i pay a subscript...</td>\n",
       "    </tr>\n",
       "    <tr>\n",
       "      <th>3</th>\n",
       "      <td>chat transcript: visitor: no puedo hacer la r...</td>\n",
       "      <td>80</td>\n",
       "      <td>[visitor, no, puedo, hacer, cash, infelizmente...</td>\n",
       "      <td>[NN, DT, NN, NN, NN, NN, NN, DT, NN, NN, NN, N...</td>\n",
       "      <td>[(visitor, NN), (no, DT), (puedo, NN), (hacer,...</td>\n",
       "      <td>visitor no puedo hacer cash infelizmente yo no...</td>\n",
       "    </tr>\n",
       "    <tr>\n",
       "      <th>4</th>\n",
       "      <td>chat transcript: visitor: hi im trying to buy...</td>\n",
       "      <td>48</td>\n",
       "      <td>[visitor, hi, im, buy, bits, payment, be, hell...</td>\n",
       "      <td>[NN, NN, NN, VB, NNS, NN, VB, NN, NN, VB, DT, ...</td>\n",
       "      <td>[(visitor, NN), (hi, NN), (im, NN), (buy, VB),...</td>\n",
       "      <td>visitor hi im buy bits payment be hello im add...</td>\n",
       "    </tr>\n",
       "  </tbody>\n",
       "</table>\n",
       "</div>"
      ],
      "text/plain": [
       "                                            sentence  count_words  \\\n",
       "0   chat transcript: visitor: i am attempting to ...           30   \n",
       "1   chat transcript: visitor: hi. for some reason...           64   \n",
       "2   chat transcript: visitor: , faceit, andrew: ....           17   \n",
       "3   chat transcript: visitor: no puedo hacer la r...           80   \n",
       "4   chat transcript: visitor: hi im trying to buy...           48   \n",
       "\n",
       "                                       list_of_words  \\\n",
       "0  [visitor, i, am, verify, card, the, payment, a...   \n",
       "1  [visitor, hi, some, reason, sub, prepcoin, nl,...   \n",
       "2  [visitor, faceit, visitor, hello, i, pay, a, s...   \n",
       "3  [visitor, no, puedo, hacer, cash, infelizmente...   \n",
       "4  [visitor, hi, im, buy, bits, payment, be, hell...   \n",
       "\n",
       "                                        list_of_tags  \\\n",
       "0  [NN, NN, VBP, VB, NN, DT, NN, DT, NNS, VBP, NN...   \n",
       "1  [NN, NN, DT, NN, NN, NN, NN, NN, VBP, NN, NN, ...   \n",
       "2  [NN, NN, NN, NN, NN, VB, DT, NN, DT, NN, NN, D...   \n",
       "3  [NN, DT, NN, NN, NN, NN, NN, DT, NN, NN, NN, N...   \n",
       "4  [NN, NN, NN, VB, NNS, NN, VB, NN, NN, VB, DT, ...   \n",
       "\n",
       "                                  word_with_tag_list  \\\n",
       "0  [(visitor, NN), (i, NN), (am, VBP), (verify, V...   \n",
       "1  [(visitor, NN), (hi, NN), (some, DT), (reason,...   \n",
       "2  [(visitor, NN), (faceit, NN), (visitor, NN), (...   \n",
       "3  [(visitor, NN), (no, DT), (puedo, NN), (hacer,...   \n",
       "4  [(visitor, NN), (hi, NN), (im, NN), (buy, VB),...   \n",
       "\n",
       "                                        new_sentence  \n",
       "0  visitor i am verify card the payment all charg...  \n",
       "1  visitor hi some reason sub prepcoin nl didnt g...  \n",
       "2  visitor faceit visitor hello i pay a subscript...  \n",
       "3  visitor no puedo hacer cash infelizmente yo no...  \n",
       "4  visitor hi im buy bits payment be hello im add...  "
      ]
     },
     "execution_count": 16,
     "metadata": {},
     "output_type": "execute_result"
    }
   ],
   "source": [
    "text_analizator_df.head()"
   ]
  },
  {
   "cell_type": "code",
   "execution_count": 17,
   "metadata": {},
   "outputs": [
    {
     "data": {
      "text/plain": [
       "(49499, 4)"
      ]
     },
     "execution_count": 17,
     "metadata": {},
     "output_type": "execute_result"
    }
   ],
   "source": [
    "df.shape"
   ]
  },
  {
   "cell_type": "code",
   "execution_count": 26,
   "metadata": {},
   "outputs": [
    {
     "name": "stderr",
     "output_type": "stream",
     "text": [
      "<ipython-input-26-35b263881e45>:3: SettingWithCopyWarning: \n",
      "A value is trying to be set on a copy of a slice from a DataFrame.\n",
      "Try using .loc[row_indexer,col_indexer] = value instead\n",
      "\n",
      "See the caveats in the documentation: https://pandas.pydata.org/pandas-docs/stable/user_guide/indexing.html#returning-a-view-versus-a-copy\n",
      "  data['category'] = df['category']\n",
      "<ipython-input-26-35b263881e45>:4: SettingWithCopyWarning: \n",
      "A value is trying to be set on a copy of a slice from a DataFrame.\n",
      "Try using .loc[row_indexer,col_indexer] = value instead\n",
      "\n",
      "See the caveats in the documentation: https://pandas.pydata.org/pandas-docs/stable/user_guide/indexing.html#returning-a-view-versus-a-copy\n",
      "  data['message'] = text_analizator_df['new_sentence']\n"
     ]
    },
    {
     "data": {
      "text/html": [
       "<div>\n",
       "<style scoped>\n",
       "    .dataframe tbody tr th:only-of-type {\n",
       "        vertical-align: middle;\n",
       "    }\n",
       "\n",
       "    .dataframe tbody tr th {\n",
       "        vertical-align: top;\n",
       "    }\n",
       "\n",
       "    .dataframe thead th {\n",
       "        text-align: right;\n",
       "    }\n",
       "</style>\n",
       "<table border=\"1\" class=\"dataframe\">\n",
       "  <thead>\n",
       "    <tr style=\"text-align: right;\">\n",
       "      <th></th>\n",
       "      <th>category</th>\n",
       "      <th>message</th>\n",
       "    </tr>\n",
       "  </thead>\n",
       "  <tbody>\n",
       "    <tr>\n",
       "      <th>0</th>\n",
       "      <td>afs</td>\n",
       "      <td>visitor i am verify card the payment all charg...</td>\n",
       "    </tr>\n",
       "    <tr>\n",
       "      <th>1</th>\n",
       "      <td>other</td>\n",
       "      <td>visitor hi some reason sub prepcoin nl didnt g...</td>\n",
       "    </tr>\n",
       "    <tr>\n",
       "      <th>2</th>\n",
       "      <td>afs</td>\n",
       "      <td>visitor faceit visitor hello i pay a subscript...</td>\n",
       "    </tr>\n",
       "    <tr>\n",
       "      <th>3</th>\n",
       "      <td>afs</td>\n",
       "      <td>visitor no puedo hacer cash infelizmente yo no...</td>\n",
       "    </tr>\n",
       "    <tr>\n",
       "      <th>4</th>\n",
       "      <td>afs</td>\n",
       "      <td>visitor hi im buy bits payment be hello im add...</td>\n",
       "    </tr>\n",
       "  </tbody>\n",
       "</table>\n",
       "</div>"
      ],
      "text/plain": [
       "  category                                            message\n",
       "0      afs  visitor i am verify card the payment all charg...\n",
       "1    other  visitor hi some reason sub prepcoin nl didnt g...\n",
       "2      afs  visitor faceit visitor hello i pay a subscript...\n",
       "3      afs  visitor no puedo hacer cash infelizmente yo no...\n",
       "4      afs  visitor hi im buy bits payment be hello im add..."
      ]
     },
     "execution_count": 26,
     "metadata": {},
     "output_type": "execute_result"
    }
   ],
   "source": [
    "#подготовка данных для fasttext\n",
    "data = df[['category', 'message']]\n",
    "data['category'] = df['category']\n",
    "data['message'] = text_analizator_df['new_sentence']\n",
    "data.head()"
   ]
  },
  {
   "cell_type": "code",
   "execution_count": 27,
   "metadata": {},
   "outputs": [
    {
     "name": "stderr",
     "output_type": "stream",
     "text": [
      "<ipython-input-27-0247c99187eb>:2: SettingWithCopyWarning: \n",
      "A value is trying to be set on a copy of a slice from a DataFrame.\n",
      "Try using .loc[row_indexer,col_indexer] = value instead\n",
      "\n",
      "See the caveats in the documentation: https://pandas.pydata.org/pandas-docs/stable/user_guide/indexing.html#returning-a-view-versus-a-copy\n",
      "  data['category'] = data['category'].apply(lambda f: '__label__' + str(f))\n"
     ]
    },
    {
     "data": {
      "text/html": [
       "<div>\n",
       "<style scoped>\n",
       "    .dataframe tbody tr th:only-of-type {\n",
       "        vertical-align: middle;\n",
       "    }\n",
       "\n",
       "    .dataframe tbody tr th {\n",
       "        vertical-align: top;\n",
       "    }\n",
       "\n",
       "    .dataframe thead th {\n",
       "        text-align: right;\n",
       "    }\n",
       "</style>\n",
       "<table border=\"1\" class=\"dataframe\">\n",
       "  <thead>\n",
       "    <tr style=\"text-align: right;\">\n",
       "      <th></th>\n",
       "      <th>category</th>\n",
       "      <th>message</th>\n",
       "    </tr>\n",
       "  </thead>\n",
       "  <tbody>\n",
       "    <tr>\n",
       "      <th>0</th>\n",
       "      <td>__label__afs</td>\n",
       "      <td>chat transcript: visitor: i am attempting to ...</td>\n",
       "    </tr>\n",
       "    <tr>\n",
       "      <th>1</th>\n",
       "      <td>__label__other</td>\n",
       "      <td>chat transcript: visitor: hi. for some reason...</td>\n",
       "    </tr>\n",
       "    <tr>\n",
       "      <th>2</th>\n",
       "      <td>__label__afs</td>\n",
       "      <td>chat transcript: visitor: , faceit, andrew: ....</td>\n",
       "    </tr>\n",
       "    <tr>\n",
       "      <th>3</th>\n",
       "      <td>__label__afs</td>\n",
       "      <td>chat transcript: visitor: no puedo hacer la r...</td>\n",
       "    </tr>\n",
       "    <tr>\n",
       "      <th>4</th>\n",
       "      <td>__label__afs</td>\n",
       "      <td>chat transcript: visitor: hi im trying to buy...</td>\n",
       "    </tr>\n",
       "  </tbody>\n",
       "</table>\n",
       "</div>"
      ],
      "text/plain": [
       "         category                                            message\n",
       "0    __label__afs   chat transcript: visitor: i am attempting to ...\n",
       "1  __label__other   chat transcript: visitor: hi. for some reason...\n",
       "2    __label__afs   chat transcript: visitor: , faceit, andrew: ....\n",
       "3    __label__afs   chat transcript: visitor: no puedo hacer la r...\n",
       "4    __label__afs   chat transcript: visitor: hi im trying to buy..."
      ]
     },
     "execution_count": 27,
     "metadata": {},
     "output_type": "execute_result"
    }
   ],
   "source": [
    "data = df[['category', 'message']]\n",
    "data['category'] = data['category'].apply(lambda f: '__label__' + str(f))\n",
    "data.head()"
   ]
  },
  {
   "cell_type": "code",
   "execution_count": 28,
   "metadata": {},
   "outputs": [],
   "source": [
    "data[['category', 'message']].to_csv('train_data.txt', header=False, index=False, sep=\"\\t\")"
   ]
  },
  {
   "cell_type": "code",
   "execution_count": 29,
   "metadata": {},
   "outputs": [
    {
     "data": {
      "image/png": "[encoded data removed]",
      "text/plain": [
       "<Figure size 432x288 with 1 Axes>"
      ]
     },
     "metadata": {
      "needs_background": "light"
     },
     "output_type": "display_data"
    }
   ],
   "source": [
    "data['category'].value_counts().plot(kind='bar', title='Count');"
   ]
  },
  {
   "cell_type": "code",
   "execution_count": 30,
   "metadata": {},
   "outputs": [
    {
     "data": {
      "image/png": "[encoded data removed]",
      "text/plain": [
       "<Figure size 432x288 with 1 Axes>"
      ]
     },
     "metadata": {
      "needs_background": "light"
     },
     "output_type": "display_data"
    }
   ],
   "source": [
    "#сделаем оверсемплинг\n",
    "\n",
    "from imblearn.over_sampling import RandomOverSampler\n",
    "train_columns = list(set(data.columns) - set(['category']))\n",
    "ros = RandomOverSampler()\n",
    "X_ros, y_ros = ros.fit_sample(data[train_columns], data['category'])\n",
    "y_ros.value_counts().plot(kind='bar', title='Count');"
   ]
  },
  {
   "cell_type": "code",
   "execution_count": 31,
   "metadata": {},
   "outputs": [],
   "source": [
    "import fasttext"
   ]
  },
  {
   "cell_type": "code",
   "execution_count": 32,
   "metadata": {},
   "outputs": [],
   "source": [
    "#обучение модели\n",
    "model = fasttext.train_supervised(input='train_data.txt', epoch=100)"
   ]
  },
  {
   "cell_type": "code",
   "execution_count": 38,
   "metadata": {},
   "outputs": [
    {
     "data": {
      "text/plain": [
       "array([0.94549602, 0.04911341, 0.00542051])"
      ]
     },
     "execution_count": 38,
     "metadata": {},
     "output_type": "execute_result"
    }
   ],
   "source": [
    "#проверка результата \n",
    "model.predict('hello i want to get money back',k=3)[1]"
   ]
  },
  {
   "cell_type": "code",
   "execution_count": 34,
   "metadata": {},
   "outputs": [],
   "source": [
    "#сохраняем модель для дальнейшего использования\n",
    "model.save_model(\"./models/fastText_model.txt\")"
   ]
  },
  {
   "cell_type": "code",
   "execution_count": null,
   "metadata": {},
   "outputs": [],
   "source": []
  }
 ],
 "metadata": {
  "kernelspec": {
   "display_name": "Python 3",
   "language": "python",
   "name": "python3"
  },
  "language_info": {
   "codemirror_mode": {
    "name": "ipython",
    "version": 3
   },
   "file_extension": ".py",
   "mimetype": "text/x-python",
   "name": "python",
   "nbconvert_exporter": "python",
   "pygments_lexer": "ipython3",
   "version": "3.8.3"
  }
 },
 "nbformat": 4,
 "nbformat_minor": 4
}
